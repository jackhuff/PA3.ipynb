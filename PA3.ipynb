{
 "cells": [
  {
   "cell_type": "markdown",
   "id": "3d638ca2",
   "metadata": {},
   "source": [
    "## Programming Assignment 3 \n",
    "## Jack Huff\n",
    "### CS-150-01\n",
    "### Fall 2021"
   ]
  },
  {
   "cell_type": "code",
   "execution_count": 2,
   "id": "954f1347",
   "metadata": {},
   "outputs": [
    {
     "name": "stdout",
     "output_type": "stream",
     "text": [
      "Enter the length of side A: 5\n",
      "Enter the length of side B: 6\n",
      "Enter the length of side C: 7\n",
      "The area of the triangle is approximately 14.696938456699069 square units\n",
      "The perimeter of the triangle is approximately 18 linear units\n"
     ]
    }
   ],
   "source": [
    "a=int(input(\"Enter the length of side A: \"))\n",
    "b=int(input(\"Enter the length of side B: \"))\n",
    "c=int(input(\"Enter the length of side C: \"))\n",
    "s=((a+b+c)/2)\n",
    "def calcArea(a,b,c,s):\n",
    "    return (s*(s-a)*(s-b)*(s-c)) ** 0.5  \n",
    "def calcPerimeter(a,b,c):\n",
    "    return (a+b+c)\n",
    "print(\"The area of the triangle is approximately\", calcArea(a,b,c,s), \"square units\")\n",
    "print(\"The perimeter of the triangle is approximately\", calcPerimeter(a,b,c), \"linear units\")"
   ]
  },
  {
   "cell_type": "code",
   "execution_count": 7,
   "id": "e3185d78",
   "metadata": {},
   "outputs": [
    {
     "name": "stdout",
     "output_type": "stream",
     "text": [
      "Enter your number: 500\n",
      "Too Low! Guess Again\n",
      "Enter your number: 750\n",
      "Too Low! Guess Again\n",
      "Enter your number: 800\n",
      "Too High! Guess Again\n",
      "Enter your number: 700\n",
      "Too Low! Guess Again\n",
      "Enter your number: 750\n",
      "Too Low! Guess Again\n",
      "Enter your number: 778\n",
      "Too High! Guess Again\n",
      "Enter your number: 763\n",
      "Too High! Guess Again\n",
      "Enter your number: 750\n",
      "Too Low! Guess Again\n",
      "Enter your number: 754\n",
      "Too High! Guess Again\n",
      "Enter your number: 752\n",
      "Too Low! Guess Again\n",
      "Enter your number: 753\n",
      "You won! you took 11 trys\n"
     ]
    }
   ],
   "source": [
    "import random\n",
    "number=random.randint(1,1000)\n",
    "guess=None\n",
    "time=1\n",
    "while guess!=number:\n",
    "    guess=int(input(\"Enter your number: \")) \n",
    "    if guess==number:\n",
    "        print(f\"You won! you took {time} trys\")\n",
    "        break\n",
    "    elif guess>number:\n",
    "        print(\"Too High! Guess Again\")\n",
    "    else:\n",
    "        print(\"Too Low! Guess Again\")\n",
    "    time+=1"
   ]
  },
  {
   "cell_type": "code",
   "execution_count": 9,
   "id": "bc76890a",
   "metadata": {},
   "outputs": [
    {
     "name": "stdout",
     "output_type": "stream",
     "text": [
      "Enter mondays temperature: 60\n",
      "Enter tuesdays temperature: 45\n",
      "Enter wednesdays temperature: 45\n",
      "Enter thursdays temperature: 34\n",
      "Enter fridays temperature: 76\n",
      "Enter saturdays temperature: 46\n",
      "Enter sundays temperature: 45\n",
      "The average temperature for the week is 50.142857142857146\n",
      "The average temperature after 5 days is 52\n",
      "The average temperature after 2 days is 52.5\n"
     ]
    }
   ],
   "source": [
    "import statistics\n",
    "day1=int(input(\"Enter mondays temperature: \"))\n",
    "day2=int(input(\"Enter tuesdays temperature: \"))\n",
    "day3=int(input(\"Enter wednesdays temperature: \"))\n",
    "day4=int(input(\"Enter thursdays temperature: \"))\n",
    "day5=int(input(\"Enter fridays temperature: \"))\n",
    "day6=int(input(\"Enter saturdays temperature: \"))\n",
    "day7=int(input(\"Enter sundays temperature: \"))\n",
    "days7= [day1,day2,day3,day4,day5,day6,day7]\n",
    "days5= [day1,day2,day3,day4,day5]\n",
    "days2= [day1,day2]\n",
    "meanTemperature= statistics.mean(days7)\n",
    "meanTemperature5= statistics.mean(days5)\n",
    "meanTemperature2= statistics.mean(days2)\n",
    "print(\"The average temperature for the week is\", meanTemperature)\n",
    "print(\"The average temperature after 5 days is\", meanTemperature5)\n",
    "print(\"The average temperature after 2 days is\", meanTemperature2)"
   ]
  },
  {
   "cell_type": "code",
   "execution_count": null,
   "id": "4235ef4e",
   "metadata": {},
   "outputs": [],
   "source": []
  },
  {
   "cell_type": "code",
   "execution_count": null,
   "id": "4fdbb6ad",
   "metadata": {},
   "outputs": [],
   "source": []
  }
 ],
 "metadata": {
  "kernelspec": {
   "display_name": "Python 3",
   "language": "python",
   "name": "python3"
  },
  "language_info": {
   "codemirror_mode": {
    "name": "ipython",
    "version": 3
   },
   "file_extension": ".py",
   "mimetype": "text/x-python",
   "name": "python",
   "nbconvert_exporter": "python",
   "pygments_lexer": "ipython3",
   "version": "3.8.8"
  }
 },
 "nbformat": 4,
 "nbformat_minor": 5
}
